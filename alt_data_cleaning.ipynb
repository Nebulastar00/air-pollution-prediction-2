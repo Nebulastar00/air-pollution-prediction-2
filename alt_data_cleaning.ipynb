{
 "cells": [
  {
   "cell_type": "markdown",
   "metadata": {},
   "source": [
    "## Data Cleaning - Alternative\n",
    "----\n",
    "In this interactive notebook, we explore the process of cleaning up daily summary data downloaded en masse through the AQS website. The website provides ZIP archives of CSV files for each of the parameters of Criteria gasses, which are all contained in the AQI defined pollutants class of parameters. I have collected ZIP files with daily summary data for each of Carbon Monoxide (CO), Ozone (O3), Sulfur Dioxide (SO2), and Nitrogen Dioxide (NO2) from 2010 to 2018.\n",
    "\n",
    "Let's start by importing our required libraries."
   ]
  },
  {
   "cell_type": "code",
   "execution_count": 1,
   "metadata": {},
   "outputs": [],
   "source": [
    "import pandas as pd\n",
    "from pyaqs import AQSFetcher"
   ]
  },
  {
   "cell_type": "code",
   "execution_count": 2,
   "metadata": {},
   "outputs": [],
   "source": [
    "aqs_fetcher = AQSFetcher('bbjornstad.flatiron@gmail.com', 'ochrefox21')"
   ]
  },
  {
   "cell_type": "code",
   "execution_count": 3,
   "metadata": {},
   "outputs": [],
   "source": [
    "param_codes = aqs_fetcher.get_parameter_list_by_class('AQI POLLUTANTS')\n",
    "state_codes = aqs_fetcher.get_state_codes()"
   ]
  },
  {
   "cell_type": "code",
   "execution_count": 4,
   "metadata": {},
   "outputs": [],
   "source": [
    "data_folder = 'agg_data_aqs/'"
   ]
  },
  {
   "cell_type": "code",
   "execution_count": 5,
   "metadata": {},
   "outputs": [
    {
     "data": {
      "text/html": [
       "<div>\n",
       "<style scoped>\n",
       "    .dataframe tbody tr th:only-of-type {\n",
       "        vertical-align: middle;\n",
       "    }\n",
       "\n",
       "    .dataframe tbody tr th {\n",
       "        vertical-align: top;\n",
       "    }\n",
       "\n",
       "    .dataframe thead th {\n",
       "        text-align: right;\n",
       "    }\n",
       "</style>\n",
       "<table border=\"1\" class=\"dataframe\">\n",
       "  <thead>\n",
       "    <tr style=\"text-align: right;\">\n",
       "      <th></th>\n",
       "      <th>code</th>\n",
       "      <th>parameter_description</th>\n",
       "    </tr>\n",
       "  </thead>\n",
       "  <tbody>\n",
       "    <tr>\n",
       "      <th>0</th>\n",
       "      <td>42101</td>\n",
       "      <td>Carbon monoxide</td>\n",
       "    </tr>\n",
       "    <tr>\n",
       "      <th>1</th>\n",
       "      <td>42401</td>\n",
       "      <td>Sulfur dioxide</td>\n",
       "    </tr>\n",
       "    <tr>\n",
       "      <th>2</th>\n",
       "      <td>42602</td>\n",
       "      <td>Nitrogen dioxide (NO2)</td>\n",
       "    </tr>\n",
       "    <tr>\n",
       "      <th>3</th>\n",
       "      <td>44201</td>\n",
       "      <td>Ozone</td>\n",
       "    </tr>\n",
       "  </tbody>\n",
       "</table>\n",
       "</div>"
      ],
      "text/plain": [
       "    code   parameter_description\n",
       "0  42101         Carbon monoxide\n",
       "1  42401          Sulfur dioxide\n",
       "2  42602  Nitrogen dioxide (NO2)\n",
       "3  44201                   Ozone"
      ]
     },
     "execution_count": 5,
     "metadata": {},
     "output_type": "execute_result"
    }
   ],
   "source": [
    "param_codes_gasses = param_codes.iloc[0:4,:]\n",
    "param_codes_gasses"
   ]
  },
  {
   "cell_type": "markdown",
   "metadata": {},
   "source": [
    "Let's store a list holding all of the years for which we have downloaded daily summary data for each of the above four gas parameters."
   ]
  },
  {
   "cell_type": "code",
   "execution_count": 6,
   "metadata": {},
   "outputs": [],
   "source": [
    "date_range = [2010, 2011, 2012, 2013, 2014, 2015, 2016, 2017, 2018]"
   ]
  },
  {
   "cell_type": "markdown",
   "metadata": {},
   "source": [
    "Now, with this, we can import and clean up our datasets."
   ]
  },
  {
   "cell_type": "code",
   "execution_count": 7,
   "metadata": {},
   "outputs": [],
   "source": [
    "cols_to_drop = [\n",
    "    'POC',\n",
    "    'Latitude',\n",
    "    'Longitude',\n",
    "    'Datum',\n",
    "    'Pollutant Standard',\n",
    "    'Event Type',\n",
    "    'Observation Count',\n",
    "    'Observation Percent',\n",
    "    '1st Max Value',\n",
    "    '1st Max Hour',\n",
    "    'Method Code',\n",
    "    'Method Name',\n",
    "    'Address',\n",
    "    'CBSA Name',\n",
    "    'Date of Last Change',\n",
    "    'Local Site Name']"
   ]
  },
  {
   "cell_type": "code",
   "execution_count": 8,
   "metadata": {},
   "outputs": [],
   "source": [
    "def import_aggregate_data(param_code, year):\n",
    "    path_stub = f'/daily_{param_code}_{year}.zip'\n",
    "    path = data_folder+path_stub\n",
    "    df = pd.read_csv(path)\n",
    "    df.drop(columns = cols_to_drop, inplace=True)\n",
    "    df.columns = df.columns.str.lower().str.replace(' ', '_')\n",
    "    df.date_local = pd.to_datetime(df.date_local)\n",
    "    return df"
   ]
  },
  {
   "cell_type": "code",
   "execution_count": 9,
   "metadata": {},
   "outputs": [
    {
     "name": "stdout",
     "output_type": "stream",
     "text": [
      "42101\n",
      "42401\n",
      "42602\n"
     ]
    },
    {
     "name": "stderr",
     "output_type": "stream",
     "text": [
      "//anaconda3/lib/python3.7/site-packages/IPython/core/interactiveshell.py:3249: DtypeWarning: Columns (27) have mixed types. Specify dtype option on import or set low_memory=False.\n",
      "  if (await self.run_code(code, result,  async_=asy)):\n"
     ]
    },
    {
     "name": "stdout",
     "output_type": "stream",
     "text": [
      "44201\n"
     ]
    }
   ],
   "source": [
    "all_data_raw_agg_trimmed = pd.DataFrame()\n",
    "\n",
    "for param_code in param_codes_gasses.code:\n",
    "    print(param_code)\n",
    "    all_param_df = pd.DataFrame()\n",
    "    for year in date_range:\n",
    "        yearly_param_df = import_aggregate_data(param_code, year)\n",
    "        all_param_df = pd.concat([all_param_df, yearly_param_df])\n",
    "        \n",
    "    all_param_df.to_csv(f'cleaned_data/{param_code}_daily.csv')\n",
    "    \n",
    "    all_data_raw_agg_trimmed = pd.concat([all_data_raw_agg_trimmed, all_param_df])"
   ]
  },
  {
   "cell_type": "code",
   "execution_count": 12,
   "metadata": {},
   "outputs": [
    {
     "data": {
      "text/plain": [
       "(9710154, 13)"
      ]
     },
     "execution_count": 12,
     "metadata": {},
     "output_type": "execute_result"
    }
   ],
   "source": [
    "all_data_raw_agg_trimmed.shape"
   ]
  },
  {
   "cell_type": "code",
   "execution_count": 16,
   "metadata": {},
   "outputs": [
    {
     "data": {
      "text/html": [
       "<div>\n",
       "<style scoped>\n",
       "    .dataframe tbody tr th:only-of-type {\n",
       "        vertical-align: middle;\n",
       "    }\n",
       "\n",
       "    .dataframe tbody tr th {\n",
       "        vertical-align: top;\n",
       "    }\n",
       "\n",
       "    .dataframe thead th {\n",
       "        text-align: right;\n",
       "    }\n",
       "</style>\n",
       "<table border=\"1\" class=\"dataframe\">\n",
       "  <thead>\n",
       "    <tr style=\"text-align: right;\">\n",
       "      <th></th>\n",
       "      <th>state_code</th>\n",
       "      <th>county_code</th>\n",
       "      <th>site_num</th>\n",
       "      <th>parameter_code</th>\n",
       "      <th>parameter_name</th>\n",
       "      <th>sample_duration</th>\n",
       "      <th>date_local</th>\n",
       "      <th>units_of_measure</th>\n",
       "      <th>arithmetic_mean</th>\n",
       "      <th>aqi</th>\n",
       "      <th>state_name</th>\n",
       "      <th>county_name</th>\n",
       "      <th>city_name</th>\n",
       "    </tr>\n",
       "  </thead>\n",
       "  <tbody>\n",
       "    <tr>\n",
       "      <th>0</th>\n",
       "      <td>1</td>\n",
       "      <td>73</td>\n",
       "      <td>28</td>\n",
       "      <td>42101</td>\n",
       "      <td>Carbon monoxide</td>\n",
       "      <td>1 HOUR</td>\n",
       "      <td>2010-01-01</td>\n",
       "      <td>Parts per million</td>\n",
       "      <td>0.470833</td>\n",
       "      <td>NaN</td>\n",
       "      <td>Alabama</td>\n",
       "      <td>Jefferson</td>\n",
       "      <td>Birmingham</td>\n",
       "    </tr>\n",
       "    <tr>\n",
       "      <th>1</th>\n",
       "      <td>1</td>\n",
       "      <td>73</td>\n",
       "      <td>28</td>\n",
       "      <td>42101</td>\n",
       "      <td>Carbon monoxide</td>\n",
       "      <td>1 HOUR</td>\n",
       "      <td>2010-01-02</td>\n",
       "      <td>Parts per million</td>\n",
       "      <td>0.479167</td>\n",
       "      <td>NaN</td>\n",
       "      <td>Alabama</td>\n",
       "      <td>Jefferson</td>\n",
       "      <td>Birmingham</td>\n",
       "    </tr>\n",
       "    <tr>\n",
       "      <th>2</th>\n",
       "      <td>1</td>\n",
       "      <td>73</td>\n",
       "      <td>28</td>\n",
       "      <td>42101</td>\n",
       "      <td>Carbon monoxide</td>\n",
       "      <td>1 HOUR</td>\n",
       "      <td>2010-01-03</td>\n",
       "      <td>Parts per million</td>\n",
       "      <td>0.462500</td>\n",
       "      <td>NaN</td>\n",
       "      <td>Alabama</td>\n",
       "      <td>Jefferson</td>\n",
       "      <td>Birmingham</td>\n",
       "    </tr>\n",
       "    <tr>\n",
       "      <th>3</th>\n",
       "      <td>1</td>\n",
       "      <td>73</td>\n",
       "      <td>28</td>\n",
       "      <td>42101</td>\n",
       "      <td>Carbon monoxide</td>\n",
       "      <td>1 HOUR</td>\n",
       "      <td>2010-01-04</td>\n",
       "      <td>Parts per million</td>\n",
       "      <td>0.579167</td>\n",
       "      <td>NaN</td>\n",
       "      <td>Alabama</td>\n",
       "      <td>Jefferson</td>\n",
       "      <td>Birmingham</td>\n",
       "    </tr>\n",
       "    <tr>\n",
       "      <th>4</th>\n",
       "      <td>1</td>\n",
       "      <td>73</td>\n",
       "      <td>28</td>\n",
       "      <td>42101</td>\n",
       "      <td>Carbon monoxide</td>\n",
       "      <td>1 HOUR</td>\n",
       "      <td>2010-01-05</td>\n",
       "      <td>Parts per million</td>\n",
       "      <td>0.582609</td>\n",
       "      <td>NaN</td>\n",
       "      <td>Alabama</td>\n",
       "      <td>Jefferson</td>\n",
       "      <td>Birmingham</td>\n",
       "    </tr>\n",
       "  </tbody>\n",
       "</table>\n",
       "</div>"
      ],
      "text/plain": [
       "   state_code  county_code  site_num  parameter_code   parameter_name  \\\n",
       "0           1           73        28           42101  Carbon monoxide   \n",
       "1           1           73        28           42101  Carbon monoxide   \n",
       "2           1           73        28           42101  Carbon monoxide   \n",
       "3           1           73        28           42101  Carbon monoxide   \n",
       "4           1           73        28           42101  Carbon monoxide   \n",
       "\n",
       "  sample_duration date_local   units_of_measure  arithmetic_mean  aqi  \\\n",
       "0          1 HOUR 2010-01-01  Parts per million         0.470833  NaN   \n",
       "1          1 HOUR 2010-01-02  Parts per million         0.479167  NaN   \n",
       "2          1 HOUR 2010-01-03  Parts per million         0.462500  NaN   \n",
       "3          1 HOUR 2010-01-04  Parts per million         0.579167  NaN   \n",
       "4          1 HOUR 2010-01-05  Parts per million         0.582609  NaN   \n",
       "\n",
       "  state_name county_name   city_name  \n",
       "0    Alabama   Jefferson  Birmingham  \n",
       "1    Alabama   Jefferson  Birmingham  \n",
       "2    Alabama   Jefferson  Birmingham  \n",
       "3    Alabama   Jefferson  Birmingham  \n",
       "4    Alabama   Jefferson  Birmingham  "
      ]
     },
     "execution_count": 16,
     "metadata": {},
     "output_type": "execute_result"
    }
   ],
   "source": [
    "all_data_raw_agg_trimmed.head()"
   ]
  },
  {
   "cell_type": "code",
   "execution_count": 17,
   "metadata": {},
   "outputs": [
    {
     "data": {
      "text/plain": [
       "1 HOUR                     3760545\n",
       "8-HR RUN AVG BEGIN HOUR    3502101\n",
       "3-HR BLK AVG               1480418\n",
       "8-HR RUN AVG END HOUR       967090\n",
       "Name: sample_duration, dtype: int64"
      ]
     },
     "execution_count": 17,
     "metadata": {},
     "output_type": "execute_result"
    }
   ],
   "source": [
    "all_data_raw_agg_trimmed.sample_duration.value_counts()"
   ]
  },
  {
   "cell_type": "code",
   "execution_count": 18,
   "metadata": {},
   "outputs": [
    {
     "data": {
      "text/plain": [
       "2016-05-26    3348\n",
       "2016-05-24    3312\n",
       "2016-07-22    3308\n",
       "2016-07-20    3303\n",
       "2016-05-23    3289\n",
       "              ... \n",
       "2010-12-25    2481\n",
       "2010-11-26    2473\n",
       "2010-12-26    2473\n",
       "2010-11-27    2471\n",
       "2010-11-28    2469\n",
       "Name: date_local, Length: 3287, dtype: int64"
      ]
     },
     "execution_count": 18,
     "metadata": {},
     "output_type": "execute_result"
    }
   ],
   "source": [
    "all_data_raw_agg_trimmed.date_local.value_counts()"
   ]
  },
  {
   "cell_type": "code",
   "execution_count": null,
   "metadata": {},
   "outputs": [],
   "source": []
  }
 ],
 "metadata": {
  "kernelspec": {
   "display_name": "Python 3",
   "language": "python",
   "name": "python3"
  },
  "language_info": {
   "codemirror_mode": {
    "name": "ipython",
    "version": 3
   },
   "file_extension": ".py",
   "mimetype": "text/x-python",
   "name": "python",
   "nbconvert_exporter": "python",
   "pygments_lexer": "ipython3",
   "version": "3.7.3"
  }
 },
 "nbformat": 4,
 "nbformat_minor": 4
}
